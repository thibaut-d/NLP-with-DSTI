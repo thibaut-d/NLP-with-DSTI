{
 "cells": [
  {
   "cell_type": "markdown",
   "metadata": {},
   "source": [
    "# Check Data Quality of the Files"
   ]
  },
  {
   "cell_type": "markdown",
   "metadata": {},
   "source": [
    "checking data quality of the files\n",
    "e.g. if there are redundant files or empty files, etc.\n",
    "\n",
    "Steps:\n",
    "- importing Boto because files are on S3"
   ]
  },
  {
   "cell_type": "code",
   "execution_count": 1,
   "metadata": {},
   "outputs": [],
   "source": [
    "#!pip3 install s3fs boto3 mock --use-feature=2020-resolver\n",
    "# there is a bug in the feature resolver, that the installation runs forever, even though the installation succeeded.\n",
    "# you may have to interrupt the kernel and then s3fs is isntalled properly"
   ]
  },
  {
   "cell_type": "code",
   "execution_count": 2,
   "metadata": {},
   "outputs": [],
   "source": [
    "import boto3\n",
    "import pandas as pd"
   ]
  },
  {
   "cell_type": "code",
   "execution_count": 3,
   "metadata": {},
   "outputs": [],
   "source": [
    "def file_list(bucket_name):\n",
    "    \"\"\"A function that lists all files (objects) in a given bucket (argument bucket_name) and puts it in a list\"\"\"\n",
    "    s3 = boto3.resource('s3')\n",
    "    my_bucket = s3.Bucket(bucket_name)\n",
    "    return [i.key for i in my_bucket.objects.all()]"
   ]
  },
  {
   "cell_type": "code",
   "execution_count": 4,
   "metadata": {
    "scrolled": true
   },
   "outputs": [
    {
     "data": {
      "text/plain": "['Data/MR_IBRAHIM_ASHAFA_STATEMENT (1).csv',\n 'Data/MR_IBRAHIM_ASHAFA_STATEMENT (2).csv',\n 'Data/MR_IBRAHIM_ASHAFA_STATEMENT (3).csv',\n 'Data/MR_IBRAHIM_ASHAFA_STATEMENT (4).csv',\n 'Data/MR_IBRAHIM_ASHAFA_STATEMENT.csv',\n 'Data/MR_TAPIYA_JOHN_BANK_STATEMENT-part2.csv',\n 'Data/Mr_Tochukwu_statement-part2.csv',\n 'Data/mr_gani_olalekan_statement_July_9.xlsx']"
     },
     "execution_count": 4,
     "metadata": {},
     "output_type": "execute_result"
    }
   ],
   "source": [
    "file_list('dsti-ml-nlp-class')"
   ]
  },
  {
   "cell_type": "code",
   "execution_count": 5,
   "metadata": {},
   "outputs": [],
   "source": [
    "def create_s3_file_uri(bucket_name, file_name):\n",
    "    \"\"\"takes a bucket name and filename as argument and forms an s3 uri from it.\"\"\"\n",
    "    s3_file_uri = \"s3://\" + bucket_name + \"/\" + file_name\n",
    "    return s3_file_uri"
   ]
  },
  {
   "cell_type": "code",
   "execution_count": 6,
   "metadata": {},
   "outputs": [],
   "source": [
    "def file_to_pandas(s3_file_uri):\n",
    "    \"\"\"put a given file into a pandas dataframe. Can differentiate between .xlsx and .csv\"\"\"\n",
    "    if (s3_file_uri.endswith(\".csv\")):\n",
    "        data = pd.read_csv(s3_file_uri)\n",
    "    elif (s3_file_uri.endswith(\".xlsx\")):\n",
    "        data = pd.read_excel(s3_file_uri)\n",
    "    else:\n",
    "        print(\"This Function can handle only .xlsx or .csv files\")\n",
    "        data = None\n",
    "    return data"
   ]
  },
  {
   "cell_type": "code",
   "execution_count": 7,
   "metadata": {
    "scrolled": true
   },
   "outputs": [
    {
     "data": {
      "text/plain": "'s3://dsti-ml-nlp-class/Data/mr_gani_olalekan_statement_July_9.xlsx'"
     },
     "execution_count": 7,
     "metadata": {},
     "output_type": "execute_result"
    }
   ],
   "source": [
    "create_s3_file_uri(\"dsti-ml-nlp-class\", \"Data/mr_gani_olalekan_statement_July_9.xlsx\")"
   ]
  },
  {
   "cell_type": "code",
   "execution_count": 8,
   "metadata": {},
   "outputs": [],
   "source": [
    "s3_test_uri = create_s3_file_uri(\"dsti-ml-nlp-class\", \"Data/mr_gani_olalekan_statement_July_9.xlsx\")"
   ]
  },
  {
   "cell_type": "code",
   "execution_count": 9,
   "metadata": {
    "scrolled": true
   },
   "outputs": [],
   "source": [
    "df = file_to_pandas(s3_test_uri)"
   ]
  },
  {
   "cell_type": "code",
   "execution_count": 10,
   "metadata": {},
   "outputs": [],
   "source": [
    "def clean_dataframe(df):\n",
    "    \"\"\"takes a Dataframe as input, selects the column as header, which has TXN DATE in first column\n",
    "    select only the columns that are not nan\"\"\"\n",
    "\n",
    "    #selecting only rows with txn data and after\n",
    "    tmp_df = df[list(df[df.iloc[:, 0] == \"TXN DATE\"].index)[0]:]\n",
    "\n",
    "    #removing first two lines of the dataframe and taking the third column as headers\n",
    "    df_with_headers = pd.DataFrame(tmp_df)\n",
    "    df_with_headers.columns = tmp_df.iloc[0].values\n",
    "    df_with_headers.drop(df_with_headers.index[0], inplace=True)\n",
    "\n",
    "    #reducing into a new df that has no nan columns\n",
    "    df_reduced = df_with_headers[[el for el in df.iloc[0].values if isinstance(el, str)]]\n",
    "    return df_reduced"
   ]
  },
  {
   "cell_type": "code",
   "execution_count": 11,
   "metadata": {},
   "outputs": [
    {
     "ename": "KeyError",
     "evalue": "\"None of [Index(['CUSTOMER NAME\\\\nADDRESS\\\\nACCOUNT NUMBER\\\\nACCOUNT TYPE CURRENCY',\\n       'GANNI-OLA SAFES & DOORS LTD\\\\n17 NASCON RD OPP.JONAS PETROLSTATION IJOKO-OTA\\\\n1300003939\\\\nCURRENT NGN',\\n       'START DATE\\\\nEND DATE\\\\nOPENING BALANCE\\\\nCLOSING BALANCE',\\n       '16-May-2021\\\\n13-Jun-2021\\\\n3,789,521.51\\\\n10,574,995.17'],\\n      dtype='object')] are in the [columns]\"",
     "output_type": "error",
     "traceback": [
      "\u001B[0;31m---------------------------------------------------------------------------\u001B[0m",
      "\u001B[0;31mKeyError\u001B[0m                                  Traceback (most recent call last)",
      "\u001B[0;32m/tmp/ipykernel_111503/375496808.py\u001B[0m in \u001B[0;36m<module>\u001B[0;34m\u001B[0m\n\u001B[0;32m----> 1\u001B[0;31m \u001B[0mclean_dataframe\u001B[0m\u001B[0;34m(\u001B[0m\u001B[0mdf\u001B[0m\u001B[0;34m)\u001B[0m\u001B[0;34m\u001B[0m\u001B[0;34m\u001B[0m\u001B[0m\n\u001B[0m\u001B[1;32m      2\u001B[0m \u001B[0;34m\u001B[0m\u001B[0m\n",
      "\u001B[0;32m/tmp/ipykernel_111503/3532939080.py\u001B[0m in \u001B[0;36mclean_dataframe\u001B[0;34m(df)\u001B[0m\n\u001B[1;32m     12\u001B[0m \u001B[0;34m\u001B[0m\u001B[0m\n\u001B[1;32m     13\u001B[0m     \u001B[0;31m#reducing into a new df that has no nan columns\u001B[0m\u001B[0;34m\u001B[0m\u001B[0;34m\u001B[0m\u001B[0m\n\u001B[0;32m---> 14\u001B[0;31m     \u001B[0mdf_reduced\u001B[0m \u001B[0;34m=\u001B[0m \u001B[0mdf_with_headers\u001B[0m\u001B[0;34m[\u001B[0m\u001B[0;34m[\u001B[0m\u001B[0mel\u001B[0m \u001B[0;32mfor\u001B[0m \u001B[0mel\u001B[0m \u001B[0;32min\u001B[0m \u001B[0mdf\u001B[0m\u001B[0;34m.\u001B[0m\u001B[0miloc\u001B[0m\u001B[0;34m[\u001B[0m\u001B[0;36m0\u001B[0m\u001B[0;34m]\u001B[0m\u001B[0;34m.\u001B[0m\u001B[0mvalues\u001B[0m \u001B[0;32mif\u001B[0m \u001B[0misinstance\u001B[0m\u001B[0;34m(\u001B[0m\u001B[0mel\u001B[0m\u001B[0;34m,\u001B[0m \u001B[0mstr\u001B[0m\u001B[0;34m)\u001B[0m\u001B[0;34m]\u001B[0m\u001B[0;34m]\u001B[0m\u001B[0;34m\u001B[0m\u001B[0;34m\u001B[0m\u001B[0m\n\u001B[0m\u001B[1;32m     15\u001B[0m     \u001B[0;32mreturn\u001B[0m \u001B[0mdf_reduced\u001B[0m\u001B[0;34m\u001B[0m\u001B[0;34m\u001B[0m\u001B[0m\n\u001B[1;32m     16\u001B[0m \u001B[0;34m\u001B[0m\u001B[0m\n",
      "\u001B[0;32m~/PycharmProjects/NLP-with-DSTI/venv/lib/python3.9/site-packages/pandas/core/frame.py\u001B[0m in \u001B[0;36m__getitem__\u001B[0;34m(self, key)\u001B[0m\n\u001B[1;32m   3462\u001B[0m             \u001B[0;32mif\u001B[0m \u001B[0mis_iterator\u001B[0m\u001B[0;34m(\u001B[0m\u001B[0mkey\u001B[0m\u001B[0;34m)\u001B[0m\u001B[0;34m:\u001B[0m\u001B[0;34m\u001B[0m\u001B[0;34m\u001B[0m\u001B[0m\n\u001B[1;32m   3463\u001B[0m                 \u001B[0mkey\u001B[0m \u001B[0;34m=\u001B[0m \u001B[0mlist\u001B[0m\u001B[0;34m(\u001B[0m\u001B[0mkey\u001B[0m\u001B[0;34m)\u001B[0m\u001B[0;34m\u001B[0m\u001B[0;34m\u001B[0m\u001B[0m\n\u001B[0;32m-> 3464\u001B[0;31m             \u001B[0mindexer\u001B[0m \u001B[0;34m=\u001B[0m \u001B[0mself\u001B[0m\u001B[0;34m.\u001B[0m\u001B[0mloc\u001B[0m\u001B[0;34m.\u001B[0m\u001B[0m_get_listlike_indexer\u001B[0m\u001B[0;34m(\u001B[0m\u001B[0mkey\u001B[0m\u001B[0;34m,\u001B[0m \u001B[0maxis\u001B[0m\u001B[0;34m=\u001B[0m\u001B[0;36m1\u001B[0m\u001B[0;34m)\u001B[0m\u001B[0;34m[\u001B[0m\u001B[0;36m1\u001B[0m\u001B[0;34m]\u001B[0m\u001B[0;34m\u001B[0m\u001B[0;34m\u001B[0m\u001B[0m\n\u001B[0m\u001B[1;32m   3465\u001B[0m \u001B[0;34m\u001B[0m\u001B[0m\n\u001B[1;32m   3466\u001B[0m         \u001B[0;31m# take() does not accept boolean indexers\u001B[0m\u001B[0;34m\u001B[0m\u001B[0;34m\u001B[0m\u001B[0m\n",
      "\u001B[0;32m~/PycharmProjects/NLP-with-DSTI/venv/lib/python3.9/site-packages/pandas/core/indexing.py\u001B[0m in \u001B[0;36m_get_listlike_indexer\u001B[0;34m(self, key, axis)\u001B[0m\n\u001B[1;32m   1312\u001B[0m             \u001B[0mkeyarr\u001B[0m\u001B[0;34m,\u001B[0m \u001B[0mindexer\u001B[0m\u001B[0;34m,\u001B[0m \u001B[0mnew_indexer\u001B[0m \u001B[0;34m=\u001B[0m \u001B[0max\u001B[0m\u001B[0;34m.\u001B[0m\u001B[0m_reindex_non_unique\u001B[0m\u001B[0;34m(\u001B[0m\u001B[0mkeyarr\u001B[0m\u001B[0;34m)\u001B[0m\u001B[0;34m\u001B[0m\u001B[0;34m\u001B[0m\u001B[0m\n\u001B[1;32m   1313\u001B[0m \u001B[0;34m\u001B[0m\u001B[0m\n\u001B[0;32m-> 1314\u001B[0;31m         \u001B[0mself\u001B[0m\u001B[0;34m.\u001B[0m\u001B[0m_validate_read_indexer\u001B[0m\u001B[0;34m(\u001B[0m\u001B[0mkeyarr\u001B[0m\u001B[0;34m,\u001B[0m \u001B[0mindexer\u001B[0m\u001B[0;34m,\u001B[0m \u001B[0maxis\u001B[0m\u001B[0;34m)\u001B[0m\u001B[0;34m\u001B[0m\u001B[0;34m\u001B[0m\u001B[0m\n\u001B[0m\u001B[1;32m   1315\u001B[0m \u001B[0;34m\u001B[0m\u001B[0m\n\u001B[1;32m   1316\u001B[0m         if needs_i8_conversion(ax.dtype) or isinstance(\n",
      "\u001B[0;32m~/PycharmProjects/NLP-with-DSTI/venv/lib/python3.9/site-packages/pandas/core/indexing.py\u001B[0m in \u001B[0;36m_validate_read_indexer\u001B[0;34m(self, key, indexer, axis)\u001B[0m\n\u001B[1;32m   1372\u001B[0m                 \u001B[0;32mif\u001B[0m \u001B[0muse_interval_msg\u001B[0m\u001B[0;34m:\u001B[0m\u001B[0;34m\u001B[0m\u001B[0;34m\u001B[0m\u001B[0m\n\u001B[1;32m   1373\u001B[0m                     \u001B[0mkey\u001B[0m \u001B[0;34m=\u001B[0m \u001B[0mlist\u001B[0m\u001B[0;34m(\u001B[0m\u001B[0mkey\u001B[0m\u001B[0;34m)\u001B[0m\u001B[0;34m\u001B[0m\u001B[0;34m\u001B[0m\u001B[0m\n\u001B[0;32m-> 1374\u001B[0;31m                 \u001B[0;32mraise\u001B[0m \u001B[0mKeyError\u001B[0m\u001B[0;34m(\u001B[0m\u001B[0;34mf\"None of [{key}] are in the [{axis_name}]\"\u001B[0m\u001B[0;34m)\u001B[0m\u001B[0;34m\u001B[0m\u001B[0;34m\u001B[0m\u001B[0m\n\u001B[0m\u001B[1;32m   1375\u001B[0m \u001B[0;34m\u001B[0m\u001B[0m\n\u001B[1;32m   1376\u001B[0m             \u001B[0mnot_found\u001B[0m \u001B[0;34m=\u001B[0m \u001B[0mlist\u001B[0m\u001B[0;34m(\u001B[0m\u001B[0mensure_index\u001B[0m\u001B[0;34m(\u001B[0m\u001B[0mkey\u001B[0m\u001B[0;34m)\u001B[0m\u001B[0;34m[\u001B[0m\u001B[0mmissing_mask\u001B[0m\u001B[0;34m.\u001B[0m\u001B[0mnonzero\u001B[0m\u001B[0;34m(\u001B[0m\u001B[0;34m)\u001B[0m\u001B[0;34m[\u001B[0m\u001B[0;36m0\u001B[0m\u001B[0;34m]\u001B[0m\u001B[0;34m]\u001B[0m\u001B[0;34m.\u001B[0m\u001B[0munique\u001B[0m\u001B[0;34m(\u001B[0m\u001B[0;34m)\u001B[0m\u001B[0;34m)\u001B[0m\u001B[0;34m\u001B[0m\u001B[0;34m\u001B[0m\u001B[0m\n",
      "\u001B[0;31mKeyError\u001B[0m: \"None of [Index(['CUSTOMER NAME\\\\nADDRESS\\\\nACCOUNT NUMBER\\\\nACCOUNT TYPE CURRENCY',\\n       'GANNI-OLA SAFES & DOORS LTD\\\\n17 NASCON RD OPP.JONAS PETROLSTATION IJOKO-OTA\\\\n1300003939\\\\nCURRENT NGN',\\n       'START DATE\\\\nEND DATE\\\\nOPENING BALANCE\\\\nCLOSING BALANCE',\\n       '16-May-2021\\\\n13-Jun-2021\\\\n3,789,521.51\\\\n10,574,995.17'],\\n      dtype='object')] are in the [columns]\""
     ]
    }
   ],
   "source": [
    "clean_dataframe(df)"
   ]
  },
  {
   "cell_type": "code",
   "execution_count": 12,
   "metadata": {},
   "outputs": [],
   "source": [
    "s3_test_uri = create_s3_file_uri(\"dsti-ml-nlp-class\", \"Data/MR_IBRAHIM_ASHAFA_STATEMENT.csv\")"
   ]
  },
  {
   "cell_type": "code",
   "execution_count": 21,
   "outputs": [],
   "source": [
    "df = file_to_pandas(s3_test_uri)"
   ],
   "metadata": {
    "collapsed": false,
    "pycharm": {
     "name": "#%%\n"
    }
   }
  },
  {
   "cell_type": "code",
   "execution_count": null,
   "outputs": [],
   "source": [
    "def extract(dataframe, columns: list):\n",
    "    \"\"\"\n",
    "    Extract columns from a data frame and return data frame\n",
    "\n",
    "    :param dataframe: pandas data frame\n",
    "    :param columns: list of columns to extract\n",
    "    :return: pandas data frame\n",
    "    \"\"\"\n",
    "\n",
    "    return dataframe[columns]"
   ],
   "metadata": {
    "collapsed": false,
    "pycharm": {
     "name": "#%%\n"
    }
   }
  },
  {
   "cell_type": "code",
   "execution_count": 22,
   "outputs": [
    {
     "data": {
      "text/plain": "                                      Remarks_processed      CLASSE\n0     TRANSFER BETWEEN CUSTOMERS via GAPScom on Baba...   transfert\n1     TRANSFER BETWEEN CUSTOMERS via GAPScom on Eken...   transfert\n2     TRANSFER BETWEEN CUSTOMERS Via GTWorld Eneke  ...   transfert\n3     NIBSS Instant Payment Outward 0000132012070917...   transfert\n4     COMMISSION 000013201207091758000279938909 NIP ...  commission\n...                                                 ...         ...\n1278  Airtime Purchase GTWORLD_QL- 101CT000000000265...     utility\n1279  NIBSS Instant Payment Outward 0000132106091420...   transfert\n1280  COMMISSION 000013210609142049000172467995 NIP ...  commission\n1281  VALUE ADDED TAX 000013210609142049000172467995...         tax\n1282                                                NaN      others\n\n[1283 rows x 2 columns]",
      "text/html": "<div>\n<style scoped>\n    .dataframe tbody tr th:only-of-type {\n        vertical-align: middle;\n    }\n\n    .dataframe tbody tr th {\n        vertical-align: top;\n    }\n\n    .dataframe thead th {\n        text-align: right;\n    }\n</style>\n<table border=\"1\" class=\"dataframe\">\n  <thead>\n    <tr style=\"text-align: right;\">\n      <th></th>\n      <th>Remarks_processed</th>\n      <th>CLASSE</th>\n    </tr>\n  </thead>\n  <tbody>\n    <tr>\n      <th>0</th>\n      <td>TRANSFER BETWEEN CUSTOMERS via GAPScom on Baba...</td>\n      <td>transfert</td>\n    </tr>\n    <tr>\n      <th>1</th>\n      <td>TRANSFER BETWEEN CUSTOMERS via GAPScom on Eken...</td>\n      <td>transfert</td>\n    </tr>\n    <tr>\n      <th>2</th>\n      <td>TRANSFER BETWEEN CUSTOMERS Via GTWorld Eneke  ...</td>\n      <td>transfert</td>\n    </tr>\n    <tr>\n      <th>3</th>\n      <td>NIBSS Instant Payment Outward 0000132012070917...</td>\n      <td>transfert</td>\n    </tr>\n    <tr>\n      <th>4</th>\n      <td>COMMISSION 000013201207091758000279938909 NIP ...</td>\n      <td>commission</td>\n    </tr>\n    <tr>\n      <th>...</th>\n      <td>...</td>\n      <td>...</td>\n    </tr>\n    <tr>\n      <th>1278</th>\n      <td>Airtime Purchase GTWORLD_QL- 101CT000000000265...</td>\n      <td>utility</td>\n    </tr>\n    <tr>\n      <th>1279</th>\n      <td>NIBSS Instant Payment Outward 0000132106091420...</td>\n      <td>transfert</td>\n    </tr>\n    <tr>\n      <th>1280</th>\n      <td>COMMISSION 000013210609142049000172467995 NIP ...</td>\n      <td>commission</td>\n    </tr>\n    <tr>\n      <th>1281</th>\n      <td>VALUE ADDED TAX 000013210609142049000172467995...</td>\n      <td>tax</td>\n    </tr>\n    <tr>\n      <th>1282</th>\n      <td>NaN</td>\n      <td>others</td>\n    </tr>\n  </tbody>\n</table>\n<p>1283 rows × 2 columns</p>\n</div>"
     },
     "execution_count": 22,
     "metadata": {},
     "output_type": "execute_result"
    }
   ],
   "source": [
    "df2 = extract(df, [\"Remarks_processed\", \"CLASSE\"])\n",
    "df2"
   ],
   "metadata": {
    "collapsed": false,
    "pycharm": {
     "name": "#%%\n"
    }
   }
  },
  {
   "cell_type": "code",
   "execution_count": 24,
   "outputs": [
    {
     "data": {
      "text/plain": "transfert       438\ntax             248\nutility         242\ncommission      235\nbank_charges     49\ncash             38\nloan             21\nreversal          8\nothers            4\nName: CLASSE, dtype: int64"
     },
     "execution_count": 24,
     "metadata": {},
     "output_type": "execute_result"
    }
   ],
   "source": [
    "df2.CLASSE.value_counts()\n"
   ],
   "metadata": {
    "collapsed": false,
    "pycharm": {
     "name": "#%%\n"
    }
   }
  },
  {
   "cell_type": "code",
   "execution_count": 25,
   "outputs": [
    {
     "data": {
      "text/plain": "0       TRANSFER BETWEEN CUSTOMERS via GAPScom on Baba...\n1       TRANSFER BETWEEN CUSTOMERS via GAPScom on Eken...\n2       TRANSFER BETWEEN CUSTOMERS Via GTWorld Eneke  ...\n3       NIBSS Instant Payment Outward 0000132012070917...\n4       COMMISSION 000013201207091758000279938909 NIP ...\n                              ...                        \n1278    Airtime Purchase GTWORLD_QL- 101CT000000000265...\n1279    NIBSS Instant Payment Outward 0000132106091420...\n1280    COMMISSION 000013210609142049000172467995 NIP ...\n1281    VALUE ADDED TAX 000013210609142049000172467995...\n1282                                                  NaN\nName: Remarks_processed, Length: 1283, dtype: object"
     },
     "execution_count": 25,
     "metadata": {},
     "output_type": "execute_result"
    }
   ],
   "source": [
    "df2.Remarks_processed"
   ],
   "metadata": {
    "collapsed": false,
    "pycharm": {
     "name": "#%%\n"
    }
   }
  },
  {
   "cell_type": "code",
   "execution_count": 59,
   "outputs": [],
   "source": [
    "import numpy as np\n",
    "\n",
    "\n",
    "def lower_columns(dataframe, columns_name, default_value=np.NAN):\n",
    "    \"\"\"\n",
    "    Take a data frame, columns name and return a series of this columns lowering.\n",
    "\n",
    "    :param dataframe: pandas data frame\n",
    "    :param columns_name: name of the columns to lower\n",
    "    :param default_value: value for replace no string value\n",
    "    :return: return a pandas series\n",
    "    \"\"\"\n",
    "    data = dataframe.copy()\n",
    "    return data[columns_name].apply(lambda i: i.lower() if isinstance(i, str) else default_value)"
   ],
   "metadata": {
    "collapsed": false,
    "pycharm": {
     "name": "#%%\n"
    }
   }
  },
  {
   "cell_type": "code",
   "execution_count": 60,
   "outputs": [
    {
     "name": "stderr",
     "output_type": "stream",
     "text": [
      "/home/souff/PycharmProjects/NLP-with-DSTI/venv/lib/python3.9/site-packages/pandas/core/indexing.py:1951: SettingWithCopyWarning: \n",
      "A value is trying to be set on a copy of a slice from a DataFrame.\n",
      "Try using .loc[row_indexer,col_indexer] = value instead\n",
      "\n",
      "See the caveats in the documentation: https://pandas.pydata.org/pandas-docs/stable/user_guide/indexing.html#returning-a-view-versus-a-copy\n",
      "  self.obj[selected_item_labels] = value\n"
     ]
    }
   ],
   "source": [
    "df2.loc[:, \"Remarks_processed_lower\"] = lower_columns(df2, \"Remarks_processed\")"
   ],
   "metadata": {
    "collapsed": false,
    "pycharm": {
     "name": "#%%\n"
    }
   }
  },
  {
   "cell_type": "code",
   "execution_count": 61,
   "outputs": [
    {
     "name": "stderr",
     "output_type": "stream",
     "text": [
      "/tmp/ipykernel_111503/4180216546.py:1: FutureWarning: The default value of regex will change from True to False in a future version.\n",
      "  df2[\"Remarks_processed_lower_remove_non_word\"] = df2.Remarks_processed_lower.str.replace('[^a-zA-Z ]', '')\n",
      "/tmp/ipykernel_111503/4180216546.py:1: SettingWithCopyWarning: \n",
      "A value is trying to be set on a copy of a slice from a DataFrame.\n",
      "Try using .loc[row_indexer,col_indexer] = value instead\n",
      "\n",
      "See the caveats in the documentation: https://pandas.pydata.org/pandas-docs/stable/user_guide/indexing.html#returning-a-view-versus-a-copy\n",
      "  df2[\"Remarks_processed_lower_remove_non_word\"] = df2.Remarks_processed_lower.str.replace('[^a-zA-Z ]', '')\n"
     ]
    },
    {
     "data": {
      "text/plain": "                                      Remarks_processed      CLASSE  \\\n0     TRANSFER BETWEEN CUSTOMERS via GAPScom on Baba...   transfert   \n1     TRANSFER BETWEEN CUSTOMERS via GAPScom on Eken...   transfert   \n2     TRANSFER BETWEEN CUSTOMERS Via GTWorld Eneke  ...   transfert   \n3     NIBSS Instant Payment Outward 0000132012070917...   transfert   \n4     COMMISSION 000013201207091758000279938909 NIP ...  commission   \n...                                                 ...         ...   \n1278  Airtime Purchase GTWORLD_QL- 101CT000000000265...     utility   \n1279  NIBSS Instant Payment Outward 0000132106091420...   transfert   \n1280  COMMISSION 000013210609142049000172467995 NIP ...  commission   \n1281  VALUE ADDED TAX 000013210609142049000172467995...         tax   \n1282                                                NaN      others   \n\n                                Remarks_processed_lower  \\\n0     transfer between customers via gapscom on baba...   \n1     transfer between customers via gapscom on eken...   \n2     transfer between customers via gtworld eneke  ...   \n3     nibss instant payment outward 0000132012070917...   \n4     commission 000013201207091758000279938909 nip ...   \n...                                                 ...   \n1278  airtime purchase gtworld_ql- 101ct000000000265...   \n1279  nibss instant payment outward 0000132106091420...   \n1280  commission 000013210609142049000172467995 nip ...   \n1281  value added tax 000013210609142049000172467995...   \n1282                                                NaN   \n\n                Remarks_processed_lower_remove_non_word  \\\n0     transfer between customers via gapscom on baba...   \n1     transfer between customers via gapscom on eken...   \n2     transfer between customers via gtworld eneke  ...   \n3     nibss instant payment outward  via gtworld bab...   \n4     commission  nip transfer commission for  via g...   \n...                                                 ...   \n1278                      airtime purchase gtworldql ct   \n1279  nibss instant payment outward  via gtworld  to...   \n1280  commission  nip transfer commission for  via g...   \n1281  value added tax  vat on nip transfer for  via ...   \n1282                                                NaN   \n\n                                Remarks_processed_final  \n0     transfer between customers via gapscom babawur...  \n1     transfer between customers via gapscom ekene n...  \n2     transfer between customers via gtworld eneke r...  \n3     nibss instant payment outward via gtworld baba...  \n4     commission nip transfer commission for via gtw...  \n...                                                 ...  \n1278                         airtime purchase gtworldql  \n1279  nibss instant payment outward via gtworld yaku...  \n1280  commission nip transfer commission for via gtw...  \n1281  value added tax vat nip transfer for via gtwor...  \n1282                                                NaN  \n\n[1283 rows x 5 columns]",
      "text/html": "<div>\n<style scoped>\n    .dataframe tbody tr th:only-of-type {\n        vertical-align: middle;\n    }\n\n    .dataframe tbody tr th {\n        vertical-align: top;\n    }\n\n    .dataframe thead th {\n        text-align: right;\n    }\n</style>\n<table border=\"1\" class=\"dataframe\">\n  <thead>\n    <tr style=\"text-align: right;\">\n      <th></th>\n      <th>Remarks_processed</th>\n      <th>CLASSE</th>\n      <th>Remarks_processed_lower</th>\n      <th>Remarks_processed_lower_remove_non_word</th>\n      <th>Remarks_processed_final</th>\n    </tr>\n  </thead>\n  <tbody>\n    <tr>\n      <th>0</th>\n      <td>TRANSFER BETWEEN CUSTOMERS via GAPScom on Baba...</td>\n      <td>transfert</td>\n      <td>transfer between customers via gapscom on baba...</td>\n      <td>transfer between customers via gapscom on baba...</td>\n      <td>transfer between customers via gapscom babawur...</td>\n    </tr>\n    <tr>\n      <th>1</th>\n      <td>TRANSFER BETWEEN CUSTOMERS via GAPScom on Eken...</td>\n      <td>transfert</td>\n      <td>transfer between customers via gapscom on eken...</td>\n      <td>transfer between customers via gapscom on eken...</td>\n      <td>transfer between customers via gapscom ekene n...</td>\n    </tr>\n    <tr>\n      <th>2</th>\n      <td>TRANSFER BETWEEN CUSTOMERS Via GTWorld Eneke  ...</td>\n      <td>transfert</td>\n      <td>transfer between customers via gtworld eneke  ...</td>\n      <td>transfer between customers via gtworld eneke  ...</td>\n      <td>transfer between customers via gtworld eneke r...</td>\n    </tr>\n    <tr>\n      <th>3</th>\n      <td>NIBSS Instant Payment Outward 0000132012070917...</td>\n      <td>transfert</td>\n      <td>nibss instant payment outward 0000132012070917...</td>\n      <td>nibss instant payment outward  via gtworld bab...</td>\n      <td>nibss instant payment outward via gtworld baba...</td>\n    </tr>\n    <tr>\n      <th>4</th>\n      <td>COMMISSION 000013201207091758000279938909 NIP ...</td>\n      <td>commission</td>\n      <td>commission 000013201207091758000279938909 nip ...</td>\n      <td>commission  nip transfer commission for  via g...</td>\n      <td>commission nip transfer commission for via gtw...</td>\n    </tr>\n    <tr>\n      <th>...</th>\n      <td>...</td>\n      <td>...</td>\n      <td>...</td>\n      <td>...</td>\n      <td>...</td>\n    </tr>\n    <tr>\n      <th>1278</th>\n      <td>Airtime Purchase GTWORLD_QL- 101CT000000000265...</td>\n      <td>utility</td>\n      <td>airtime purchase gtworld_ql- 101ct000000000265...</td>\n      <td>airtime purchase gtworldql ct</td>\n      <td>airtime purchase gtworldql</td>\n    </tr>\n    <tr>\n      <th>1279</th>\n      <td>NIBSS Instant Payment Outward 0000132106091420...</td>\n      <td>transfert</td>\n      <td>nibss instant payment outward 0000132106091420...</td>\n      <td>nibss instant payment outward  via gtworld  to...</td>\n      <td>nibss instant payment outward via gtworld yaku...</td>\n    </tr>\n    <tr>\n      <th>1280</th>\n      <td>COMMISSION 000013210609142049000172467995 NIP ...</td>\n      <td>commission</td>\n      <td>commission 000013210609142049000172467995 nip ...</td>\n      <td>commission  nip transfer commission for  via g...</td>\n      <td>commission nip transfer commission for via gtw...</td>\n    </tr>\n    <tr>\n      <th>1281</th>\n      <td>VALUE ADDED TAX 000013210609142049000172467995...</td>\n      <td>tax</td>\n      <td>value added tax 000013210609142049000172467995...</td>\n      <td>value added tax  vat on nip transfer for  via ...</td>\n      <td>value added tax vat nip transfer for via gtwor...</td>\n    </tr>\n    <tr>\n      <th>1282</th>\n      <td>NaN</td>\n      <td>others</td>\n      <td>NaN</td>\n      <td>NaN</td>\n      <td>NaN</td>\n    </tr>\n  </tbody>\n</table>\n<p>1283 rows × 5 columns</p>\n</div>"
     },
     "execution_count": 61,
     "metadata": {},
     "output_type": "execute_result"
    }
   ],
   "source": [
    "df2[\"Remarks_processed_lower_remove_non_word\"] = df2.Remarks_processed_lower.str.replace('[^a-zA-Z ]', '')\n",
    "df2"
   ],
   "metadata": {
    "collapsed": false,
    "pycharm": {
     "name": "#%%\n"
    }
   }
  },
  {
   "cell_type": "code",
   "execution_count": 80,
   "outputs": [],
   "source": [
    "def remove_small_word(dataframe, column, value=2):\n",
    "    \"\"\"\n",
    "    Remove the word with small size\n",
    "\n",
    "    :param dataframe: pandas data frame\n",
    "    :param column: name of the columns\n",
    "    :param value: limit size of word to remove\n",
    "    :return: pandas series\n",
    "    \"\"\"\n",
    "    data = dataframe[column].dropna()\n",
    "    return data.apply(\n",
    "        lambda i: \" \".join([j for j in i.split(' ') if len(j) > value]) if isinstance(i, str) else None)"
   ],
   "metadata": {
    "collapsed": false,
    "pycharm": {
     "name": "#%%\n"
    }
   }
  },
  {
   "cell_type": "code",
   "execution_count": 84,
   "outputs": [
    {
     "name": "stderr",
     "output_type": "stream",
     "text": [
      "/home/souff/PycharmProjects/NLP-with-DSTI/venv/lib/python3.9/site-packages/pandas/core/indexing.py:1951: SettingWithCopyWarning: \n",
      "A value is trying to be set on a copy of a slice from a DataFrame.\n",
      "Try using .loc[row_indexer,col_indexer] = value instead\n",
      "\n",
      "See the caveats in the documentation: https://pandas.pydata.org/pandas-docs/stable/user_guide/indexing.html#returning-a-view-versus-a-copy\n",
      "  self.obj[selected_item_labels] = value\n"
     ]
    }
   ],
   "source": [
    "df2.loc[:, \"Remarks_processed_final\"] = remove_small_word(df2, \"Remarks_processed_lower_remove_non_word\")\n",
    "df2 = df2[[\"CLASSE\", \"Remarks_processed_final\"]].dropna()\n"
   ],
   "metadata": {
    "collapsed": false,
    "pycharm": {
     "name": "#%%\n"
    }
   }
  },
  {
   "cell_type": "code",
   "execution_count": 102,
   "outputs": [],
   "source": [
    "def text_to_vect(data, columns):\n",
    "    \"\"\"\n",
    "    Convert pandas series to list of list for gensim use.\n",
    "    :param data: pandas data frame\n",
    "    :param columns: pandas column\n",
    "    :return: list\n",
    "    \"\"\"\n",
    "    return data[columns].apply(lambda i: [k for k in i.split(\" \")]).tolist()"
   ],
   "metadata": {
    "collapsed": false,
    "pycharm": {
     "name": "#%%\n"
    }
   }
  },
  {
   "cell_type": "code",
   "execution_count": 103,
   "outputs": [],
   "source": [
    "gensim_sentences = text_to_vect(df2, \"Remarks_processed_final\")"
   ],
   "metadata": {
    "collapsed": false,
    "pycharm": {
     "name": "#%%\n"
    }
   }
  },
  {
   "cell_type": "code",
   "execution_count": 89,
   "outputs": [
    {
     "name": "stdout",
     "output_type": "stream",
     "text": [
      "Successfully installed gensim-4.1.2 scipy-1.7.1 smart-open-5.2.1\r\n",
      "Requirement already satisfied: gensim in ./venv/lib/python3.9/site-packages (4.1.2)\r\n",
      "Requirement already satisfied: scipy>=0.18.1 in ./venv/lib/python3.9/site-packages (from gensim) (1.7.1)\r\n",
      "Requirement already satisfied: smart-open>=1.8.1 in ./venv/lib/python3.9/site-packages (from gensim) (5.2.1)\r\n",
      "Requirement already satisfied: numpy>=1.17.0 in ./venv/lib/python3.9/site-packages (from gensim) (1.21.2)\r\n",
      "Requirement already satisfied: gensim in ./venv/lib/python3.9/site-packages (4.1.2)\r\n",
      "Requirement already satisfied: numpy>=1.17.0 in ./venv/lib/python3.9/site-packages (from gensim) (1.21.2)\r\n",
      "Requirement already satisfied: smart-open>=1.8.1 in ./venv/lib/python3.9/site-packages (from gensim) (5.2.1)\r\n",
      "Requirement already satisfied: scipy>=0.18.1 in ./venv/lib/python3.9/site-packages (from gensim) (1.7.1)\r\n"
     ]
    }
   ],
   "source": [
    "!pip install gensim"
   ],
   "metadata": {
    "collapsed": false,
    "pycharm": {
     "name": "#%%\n"
    }
   }
  },
  {
   "cell_type": "code",
   "execution_count": 104,
   "outputs": [],
   "source": [
    "import gensim\n",
    "\n",
    "model = gensim.models.Word2Vec(sentences=gensim_sentences)\n"
   ],
   "metadata": {
    "collapsed": false,
    "pycharm": {
     "name": "#%%\n"
    }
   }
  },
  {
   "cell_type": "code",
   "execution_count": 108,
   "outputs": [
    {
     "data": {
      "text/plain": "array([-0.10328881,  0.16334583,  0.01051014, -0.10607824,  0.08909471,\n       -0.28044245,  0.07188383,  0.41982266, -0.21036315, -0.14532638,\n       -0.05862461, -0.28726697, -0.04851991,  0.18935427,  0.15843366,\n        0.00273193,  0.15240349, -0.00335649,  0.04250571, -0.44154388,\n        0.1466879 ,  0.01564201,  0.10682976, -0.17818305, -0.05215204,\n        0.05861862, -0.08478298, -0.07679153, -0.08991367,  0.02726344,\n        0.25149748, -0.00786174,  0.14026217, -0.24906307, -0.11253436,\n        0.1135497 ,  0.14178824,  0.05233049, -0.09647244, -0.15661846,\n        0.14681949, -0.13713515,  0.01279491,  0.05852986,  0.15708083,\n       -0.02222572, -0.09559073, -0.11553458,  0.13193096,  0.13987166,\n        0.06783198, -0.07567728,  0.01043837, -0.0084436 ,  0.05231636,\n        0.03340466,  0.09843885,  0.01304249, -0.08215646,  0.03802414,\n        0.01552138, -0.00406528,  0.14166923,  0.10932786, -0.11888715,\n        0.26020974,  0.09080897,  0.19691391, -0.25692618,  0.31772053,\n       -0.01863956,  0.11795195,  0.2488579 ,  0.07401311,  0.27731156,\n       -0.00537747,  0.14893955,  0.10010847, -0.10842077,  0.03444309,\n       -0.12645262,  0.00884369, -0.20965628,  0.21400419, -0.06092073,\n       -0.1353014 ,  0.18315746,  0.16404189,  0.20503907,  0.05046372,\n        0.28685614,  0.05683015,  0.0508617 ,  0.06737741,  0.26846212,\n        0.195688  ,  0.18378912, -0.041959  ,  0.0470023 , -0.03187539],\n      dtype=float32)"
     },
     "execution_count": 108,
     "metadata": {},
     "output_type": "execute_result"
    }
   ],
   "source": [
    "# You can't use a word which aren't in the dictionary\n",
    "model.wv['tax']"
   ],
   "metadata": {
    "collapsed": false,
    "pycharm": {
     "name": "#%%\n"
    }
   }
  }
 ],
 "metadata": {
  "kernelspec": {
   "display_name": "Python 3",
   "language": "python",
   "name": "python3"
  },
  "language_info": {
   "codemirror_mode": {
    "name": "ipython",
    "version": 3
   },
   "file_extension": ".py",
   "mimetype": "text/x-python",
   "name": "python",
   "nbconvert_exporter": "python",
   "pygments_lexer": "ipython3",
   "version": "3.8.5"
  }
 },
 "nbformat": 4,
 "nbformat_minor": 4
}