{
 "cells": [
  {
   "cell_type": "markdown",
   "metadata": {},
   "source": [
    "# Check Data Quality of the Files"
   ]
  },
  {
   "cell_type": "markdown",
   "metadata": {},
   "source": [
    "checking data quality of the files\n",
    "e.g. if there are redundant files or empty files, etc.\n",
    "\n",
    "Steps:\n",
    "- importing Boto because files are on S3"
   ]
  },
  {
   "cell_type": "code",
   "execution_count": 1,
   "metadata": {},
   "outputs": [
    {
     "name": "stdout",
     "output_type": "stream",
     "text": [
      "^C\n"
     ]
    }
   ],
   "source": [
    "#!pip3 install s3fs boto3 mock --use-feature=2020-resolver\n",
    "# there is a bug in the feature resolver, that the installation runs forever, even though the installation succeeded.\n",
    "# you may have to interrupt the kernel and then s3fs is isntalled properly"
   ]
  },
  {
   "cell_type": "code",
   "execution_count": 5,
   "metadata": {},
   "outputs": [],
   "source": [
    "import boto3\n",
    "import pandas as pd"
   ]
  },
  {
   "cell_type": "code",
   "execution_count": 16,
   "metadata": {},
   "outputs": [],
   "source": [
    "def file_list(bucket_name):\n",
    "    \"\"\"A function that lists all files (objects) in a given bucket (argument bucket_name) and puts it in a list\"\"\"\n",
    "    s3 = boto3.resource('s3')\n",
    "    my_bucket = s3.Bucket(bucket_name)\n",
    "    return [i.key for i in my_bucket.objects.all()]"
   ]
  },
  {
   "cell_type": "code",
   "execution_count": 17,
   "metadata": {
    "scrolled": true
   },
   "outputs": [
    {
     "data": {
      "text/plain": [
       "['Data/MR_IBRAHIM_ASHAFA_STATEMENT (1).csv',\n",
       " 'Data/MR_IBRAHIM_ASHAFA_STATEMENT (2).csv',\n",
       " 'Data/MR_IBRAHIM_ASHAFA_STATEMENT (3).csv',\n",
       " 'Data/MR_IBRAHIM_ASHAFA_STATEMENT (4).csv',\n",
       " 'Data/MR_IBRAHIM_ASHAFA_STATEMENT.csv',\n",
       " 'Data/MR_TAPIYA_JOHN_BANK_STATEMENT-part2.csv',\n",
       " 'Data/Mr_Tochukwu_statement-part2.csv',\n",
       " 'Data/mr_gani_olalekan_statement_July_9.xlsx']"
      ]
     },
     "execution_count": 17,
     "metadata": {},
     "output_type": "execute_result"
    }
   ],
   "source": [
    "file_list('dsti-ml-nlp-class')"
   ]
  },
  {
   "cell_type": "code",
   "execution_count": 8,
   "metadata": {},
   "outputs": [],
   "source": [
    "def create_s3_file_uri(bucket_name, file_name):\n",
    "    \"\"\"takes a bucket name and filename as argument and forms an s3 uri from it.\"\"\"\n",
    "    s3_file_uri = \"s3://\" + bucket_name + \"/\" + file_name\n",
    "    return s3_file_uri"
   ]
  },
  {
   "cell_type": "code",
   "execution_count": 9,
   "metadata": {},
   "outputs": [],
   "source": [
    "def file_to_pandas(s3_file_uri):\n",
    "    \"\"\"put a given file into a pandas dataframe. Can differentiate between .xlsx and .csv\"\"\"\n",
    "    if (s3_file_uri.endswith(\".csv\")):\n",
    "        data = pd.read_csv(s3_file_uri)\n",
    "    elif (s3_file_uri.endswith(\".xlsx\")):\n",
    "        data = pd.read_excel(s3_file_uri)\n",
    "    else:\n",
    "        print(\"This Function can handle only .xlsx or .csv files\")\n",
    "        data = None\n",
    "    return data"
   ]
  },
  {
   "cell_type": "code",
   "execution_count": 10,
   "metadata": {
    "scrolled": true
   },
   "outputs": [
    {
     "data": {
      "text/plain": [
       "'s3://dsti-ml-nlp-class/Data/mr_gani_olalekan_statement_July_9.xlsx'"
      ]
     },
     "execution_count": 10,
     "metadata": {},
     "output_type": "execute_result"
    }
   ],
   "source": [
    "create_s3_file_uri(\"dsti-ml-nlp-class\", \"Data/mr_gani_olalekan_statement_July_9.xlsx\")"
   ]
  },
  {
   "cell_type": "code",
   "execution_count": 11,
   "metadata": {},
   "outputs": [],
   "source": [
    "s3_test_uri = create_s3_file_uri(\"dsti-ml-nlp-class\", \"Data/mr_gani_olalekan_statement_July_9.xlsx\")"
   ]
  },
  {
   "cell_type": "code",
   "execution_count": 55,
   "metadata": {
    "scrolled": true
   },
   "outputs": [],
   "source": [
    "df = file_to_pandas(s3_test_uri)"
   ]
  },
  {
   "cell_type": "code",
   "execution_count": 52,
   "metadata": {},
   "outputs": [],
   "source": [
    "def clean_dataframe (df):\n",
    "    \"\"\"takes a Dataframe as input, selects the column as header, which has TXN DATE in first column\n",
    "    select only the columns that are not nan\"\"\"\n",
    "    \n",
    "    #selecting only rows with txn data and after\n",
    "    tmp_df = df[list(df[df.iloc[:,0]==\"TXN DATE\"].index)[0]:]\n",
    "    \n",
    "    #removing first two lines of the dataframe and taking the third column as headers\n",
    "    df_with_headers = pd.DataFrame(tmp_df)\n",
    "    df_with_headers.columns = tmp_df.iloc[0].values\n",
    "    df_with_headers.drop(df_with_headers.index[0], inplace=True)\n",
    "    \n",
    "    #reducing into a new df that has no nan columns\n",
    "    df_reduced = df_with_headers[[el for el in test_data.iloc[0].values if isinstance(el, str)]]\n",
    "    return df_reduced"
   ]
  },
  {
   "cell_type": "code",
   "execution_count": 56,
   "metadata": {},
   "outputs": [
    {
     "data": {
      "text/html": [
       "<div>\n",
       "<style scoped>\n",
       "    .dataframe tbody tr th:only-of-type {\n",
       "        vertical-align: middle;\n",
       "    }\n",
       "\n",
       "    .dataframe tbody tr th {\n",
       "        vertical-align: top;\n",
       "    }\n",
       "\n",
       "    .dataframe thead th {\n",
       "        text-align: right;\n",
       "    }\n",
       "</style>\n",
       "<table border=\"1\" class=\"dataframe\">\n",
       "  <thead>\n",
       "    <tr style=\"text-align: right;\">\n",
       "      <th></th>\n",
       "      <th>TXN DATE</th>\n",
       "      <th>VAL DATE</th>\n",
       "      <th>REMARKS</th>\n",
       "      <th>DEBIT</th>\n",
       "      <th>CREDIT</th>\n",
       "      <th>BALANCE</th>\n",
       "    </tr>\n",
       "  </thead>\n",
       "  <tbody>\n",
       "    <tr>\n",
       "      <th>3</th>\n",
       "      <td>2021-05-16 00:00:00</td>\n",
       "      <td>2021-05-16 00:00:00</td>\n",
       "      <td>OUTWARD (NIP) TRANSFER ONLINE TO: UNITED BANK ...</td>\n",
       "      <td>150000</td>\n",
       "      <td>NaN</td>\n",
       "      <td>3.63952e+06</td>\n",
       "    </tr>\n",
       "    <tr>\n",
       "      <th>4</th>\n",
       "      <td>2021-05-16 00:00:00</td>\n",
       "      <td>2021-05-16 00:00:00</td>\n",
       "      <td>COMMISSION ONLINE TO: UNITED BANK\\nFOR AFRICA|...</td>\n",
       "      <td>50</td>\n",
       "      <td>NaN</td>\n",
       "      <td>3.63947e+06</td>\n",
       "    </tr>\n",
       "    <tr>\n",
       "      <th>5</th>\n",
       "      <td>2021-05-16 00:00:00</td>\n",
       "      <td>2021-05-16 00:00:00</td>\n",
       "      <td>VAT ONLINE TO: UNITED BANK FOR AFRICA|GANNI-OL...</td>\n",
       "      <td>3.75</td>\n",
       "      <td>NaN</td>\n",
       "      <td>3.63947e+06</td>\n",
       "    </tr>\n",
       "    <tr>\n",
       "      <th>6</th>\n",
       "      <td>2021-05-17 00:00:00</td>\n",
       "      <td>2021-05-17 00:00:00</td>\n",
       "      <td>COMMISSION ONLINE TO: ACCESS\\nBANK|OLOLADE OMO...</td>\n",
       "      <td>25</td>\n",
       "      <td>NaN</td>\n",
       "      <td>3.59644e+06</td>\n",
       "    </tr>\n",
       "    <tr>\n",
       "      <th>7</th>\n",
       "      <td>2021-05-17 00:00:00</td>\n",
       "      <td>2021-05-17 00:00:00</td>\n",
       "      <td>OUTWARD (NIP) TRANSFER ONLINE TO: ACCESS BANK|...</td>\n",
       "      <td>43000</td>\n",
       "      <td>NaN</td>\n",
       "      <td>3.59647e+06</td>\n",
       "    </tr>\n",
       "    <tr>\n",
       "      <th>...</th>\n",
       "      <td>...</td>\n",
       "      <td>...</td>\n",
       "      <td>...</td>\n",
       "      <td>...</td>\n",
       "      <td>...</td>\n",
       "      <td>...</td>\n",
       "    </tr>\n",
       "    <tr>\n",
       "      <th>141</th>\n",
       "      <td>2021-06-04 00:00:00</td>\n",
       "      <td>2021-06-04 00:00:00</td>\n",
       "      <td>STAMP DUTY CHARGE FROM UBA/ GANNI- OLA SAFES A...</td>\n",
       "      <td>50</td>\n",
       "      <td>NaN</td>\n",
       "      <td>1.2585e+07</td>\n",
       "    </tr>\n",
       "    <tr>\n",
       "      <th>142</th>\n",
       "      <td>2021-06-05 00:00:00</td>\n",
       "      <td>2021-06-05 00:00:00</td>\n",
       "      <td>OUTWARD (NIP) TRANSFER ONLINE TO: UNITED BANK ...</td>\n",
       "      <td>510000</td>\n",
       "      <td>NaN</td>\n",
       "      <td>1.2075e+07</td>\n",
       "    </tr>\n",
       "    <tr>\n",
       "      <th>143</th>\n",
       "      <td>2021-06-05 00:00:00</td>\n",
       "      <td>2021-06-05 00:00:00</td>\n",
       "      <td>COMMISSION ONLINE TO: UNITED BANK FOR AFRICA|E...</td>\n",
       "      <td>50</td>\n",
       "      <td>NaN</td>\n",
       "      <td>1.2075e+07</td>\n",
       "    </tr>\n",
       "    <tr>\n",
       "      <th>144</th>\n",
       "      <td>2021-06-05 00:00:00</td>\n",
       "      <td>2021-06-05 00:00:00</td>\n",
       "      <td>VAT ONLINE TO: UNITED BANK FOR AFRICA|EZEOBIOR...</td>\n",
       "      <td>3.75</td>\n",
       "      <td>NaN</td>\n",
       "      <td>1.2075e+07</td>\n",
       "    </tr>\n",
       "    <tr>\n",
       "      <th>145</th>\n",
       "      <td>2021-06-05 00:00:00</td>\n",
       "      <td>2021-06-05 00:00:00</td>\n",
       "      <td>INTERNET BANKING TRANSFER ONLINE TRF FROM GANN...</td>\n",
       "      <td>1500000</td>\n",
       "      <td>NaN</td>\n",
       "      <td>1.0575e+07</td>\n",
       "    </tr>\n",
       "  </tbody>\n",
       "</table>\n",
       "<p>143 rows × 6 columns</p>\n",
       "</div>"
      ],
      "text/plain": [
       "                TXN DATE             VAL DATE  \\\n",
       "3    2021-05-16 00:00:00  2021-05-16 00:00:00   \n",
       "4    2021-05-16 00:00:00  2021-05-16 00:00:00   \n",
       "5    2021-05-16 00:00:00  2021-05-16 00:00:00   \n",
       "6    2021-05-17 00:00:00  2021-05-17 00:00:00   \n",
       "7    2021-05-17 00:00:00  2021-05-17 00:00:00   \n",
       "..                   ...                  ...   \n",
       "141  2021-06-04 00:00:00  2021-06-04 00:00:00   \n",
       "142  2021-06-05 00:00:00  2021-06-05 00:00:00   \n",
       "143  2021-06-05 00:00:00  2021-06-05 00:00:00   \n",
       "144  2021-06-05 00:00:00  2021-06-05 00:00:00   \n",
       "145  2021-06-05 00:00:00  2021-06-05 00:00:00   \n",
       "\n",
       "                                               REMARKS    DEBIT CREDIT  \\\n",
       "3    OUTWARD (NIP) TRANSFER ONLINE TO: UNITED BANK ...   150000    NaN   \n",
       "4    COMMISSION ONLINE TO: UNITED BANK\\nFOR AFRICA|...       50    NaN   \n",
       "5    VAT ONLINE TO: UNITED BANK FOR AFRICA|GANNI-OL...     3.75    NaN   \n",
       "6    COMMISSION ONLINE TO: ACCESS\\nBANK|OLOLADE OMO...       25    NaN   \n",
       "7    OUTWARD (NIP) TRANSFER ONLINE TO: ACCESS BANK|...    43000    NaN   \n",
       "..                                                 ...      ...    ...   \n",
       "141  STAMP DUTY CHARGE FROM UBA/ GANNI- OLA SAFES A...       50    NaN   \n",
       "142  OUTWARD (NIP) TRANSFER ONLINE TO: UNITED BANK ...   510000    NaN   \n",
       "143  COMMISSION ONLINE TO: UNITED BANK FOR AFRICA|E...       50    NaN   \n",
       "144  VAT ONLINE TO: UNITED BANK FOR AFRICA|EZEOBIOR...     3.75    NaN   \n",
       "145  INTERNET BANKING TRANSFER ONLINE TRF FROM GANN...  1500000    NaN   \n",
       "\n",
       "         BALANCE  \n",
       "3    3.63952e+06  \n",
       "4    3.63947e+06  \n",
       "5    3.63947e+06  \n",
       "6    3.59644e+06  \n",
       "7    3.59647e+06  \n",
       "..           ...  \n",
       "141   1.2585e+07  \n",
       "142   1.2075e+07  \n",
       "143   1.2075e+07  \n",
       "144   1.2075e+07  \n",
       "145   1.0575e+07  \n",
       "\n",
       "[143 rows x 6 columns]"
      ]
     },
     "execution_count": 56,
     "metadata": {},
     "output_type": "execute_result"
    }
   ],
   "source": [
    "clean_dataframe(df)"
   ]
  },
  {
   "cell_type": "code",
   "execution_count": 46,
   "metadata": {},
   "outputs": [],
   "source": []
  }
 ],
 "metadata": {
  "kernelspec": {
   "display_name": "Python 3",
   "language": "python",
   "name": "python3"
  },
  "language_info": {
   "codemirror_mode": {
    "name": "ipython",
    "version": 3
   },
   "file_extension": ".py",
   "mimetype": "text/x-python",
   "name": "python",
   "nbconvert_exporter": "python",
   "pygments_lexer": "ipython3",
   "version": "3.8.5"
  }
 },
 "nbformat": 4,
 "nbformat_minor": 4
}
